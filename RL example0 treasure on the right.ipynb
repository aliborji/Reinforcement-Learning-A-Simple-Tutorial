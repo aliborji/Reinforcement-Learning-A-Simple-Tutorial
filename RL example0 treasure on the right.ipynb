{
 "cells": [
  {
   "cell_type": "markdown",
   "metadata": {},
   "source": [
    "## Tabular Q-learning"
   ]
  },
  {
   "cell_type": "code",
   "execution_count": 1,
   "metadata": {},
   "outputs": [],
   "source": [
    "import pandas as pd\n",
    "import numpy as np\n",
    "import time\n",
    "\n",
    "N_STATES = 6 # state nums on one dimension\n",
    "ACTIONS = ['left', 'right'] # available actions\n",
    "EPSILON = .9 # epsilon greedy\n",
    "ALPHA = .1 # learning rate\n",
    "GAMMA = .9 # discounting factor\n",
    "MAX_EPISODES = 13 # max episode number\n",
    "FRESH_TIME = .3 # moving interval time"
   ]
  },
  {
   "cell_type": "code",
   "execution_count": 2,
   "metadata": {},
   "outputs": [
    {
     "data": {
      "text/html": [
       "<div>\n",
       "<style>\n",
       "    .dataframe thead tr:only-child th {\n",
       "        text-align: right;\n",
       "    }\n",
       "\n",
       "    .dataframe thead th {\n",
       "        text-align: left;\n",
       "    }\n",
       "\n",
       "    .dataframe tbody tr th {\n",
       "        vertical-align: top;\n",
       "    }\n",
       "</style>\n",
       "<table border=\"1\" class=\"dataframe\">\n",
       "  <thead>\n",
       "    <tr style=\"text-align: right;\">\n",
       "      <th></th>\n",
       "      <th>left</th>\n",
       "      <th>right</th>\n",
       "    </tr>\n",
       "  </thead>\n",
       "  <tbody>\n",
       "    <tr>\n",
       "      <th>0</th>\n",
       "      <td>0.0</td>\n",
       "      <td>0.0</td>\n",
       "    </tr>\n",
       "    <tr>\n",
       "      <th>1</th>\n",
       "      <td>0.0</td>\n",
       "      <td>0.0</td>\n",
       "    </tr>\n",
       "    <tr>\n",
       "      <th>2</th>\n",
       "      <td>0.0</td>\n",
       "      <td>0.0</td>\n",
       "    </tr>\n",
       "    <tr>\n",
       "      <th>3</th>\n",
       "      <td>0.0</td>\n",
       "      <td>0.0</td>\n",
       "    </tr>\n",
       "    <tr>\n",
       "      <th>4</th>\n",
       "      <td>0.0</td>\n",
       "      <td>0.0</td>\n",
       "    </tr>\n",
       "    <tr>\n",
       "      <th>5</th>\n",
       "      <td>0.0</td>\n",
       "      <td>0.0</td>\n",
       "    </tr>\n",
       "  </tbody>\n",
       "</table>\n",
       "</div>"
      ],
      "text/plain": [
       "   left  right\n",
       "0   0.0    0.0\n",
       "1   0.0    0.0\n",
       "2   0.0    0.0\n",
       "3   0.0    0.0\n",
       "4   0.0    0.0\n",
       "5   0.0    0.0"
      ]
     },
     "execution_count": 2,
     "metadata": {},
     "output_type": "execute_result"
    }
   ],
   "source": [
    "# Q table\n",
    "# dim ->[# of states, # of actions]\n",
    "\n",
    "def build_q_table(n_states, actions):\n",
    "    table = pd.DataFrame(np.zeros((n_states, len(actions))), # initialize to all 0s\n",
    "                         columns=actions # column name\n",
    "                        )\n",
    "    return table\n",
    "\n",
    "build_q_table(N_STATES, ACTIONS)"
   ]
  },
  {
   "cell_type": "code",
   "execution_count": 3,
   "metadata": {},
   "outputs": [],
   "source": [
    "# Epsilon greedy\n",
    "# epsilon is used to control the greedy degree\n",
    "def choose_action(state, q_table):\n",
    "    state_actions = q_table.iloc[state, :] # select the row in Q table: all actions in the current state\n",
    "    if np.random.uniform()>EPSILON or state_actions.all()>0: # not greedy or the state has not been explored\n",
    "        action_name = np.random.choice(ACTIONS)\n",
    "    else:\n",
    "        action_name = state_actions.argmax() # greedy mode\n",
    "    return action_name"
   ]
  },
  {
   "cell_type": "code",
   "execution_count": 4,
   "metadata": {},
   "outputs": [],
   "source": [
    "# environment feedback\n",
    "def get_env_feedback(S, A):\n",
    "    # This is how agent will interact with the environment\n",
    "    if A == \"right\": # move right\n",
    "        if S == N_STATES-2: # terminate\n",
    "            S_ = \"terminal\"\n",
    "            R = 1\n",
    "        else:\n",
    "            S_ = S+1\n",
    "            R = 0\n",
    "    else: # move left\n",
    "        R = 0\n",
    "        if S==0:\n",
    "            S_ = S # reach the wall\n",
    "        else:\n",
    "            S_ = S-1\n",
    "    return S_, R\n"
   ]
  },
  {
   "cell_type": "code",
   "execution_count": 5,
   "metadata": {},
   "outputs": [],
   "source": [
    "# env update\n",
    "def update_env(S, episode, step_counter):\n",
    "    env_list = ['-']*(N_STATES-1) + ['T']\n",
    "    if S==\"terminal\":\n",
    "        interaction = \"Episode %s: total_steps=%s\" % (episode+1, step_counter)\n",
    "        print(\"\\r{}\".format(interaction), end=\"\")\n",
    "        time.sleep(2)\n",
    "        print(\"\\r\\t\\t\", end='')\n",
    "    else:\n",
    "        env_list[S] = 'o'\n",
    "        interaction = ''.join(env_list)\n",
    "        print('\\r{}'.format(interaction), end='')\n",
    "        time.sleep(FRESH_TIME)"
   ]
  },
  {
   "cell_type": "code",
   "execution_count": 6,
   "metadata": {},
   "outputs": [],
   "source": [
    "# RL\n",
    "def rl():\n",
    "    q_table = build_q_table(N_STATES, ACTIONS)\n",
    "    for episode in range(MAX_EPISODES):\n",
    "        step_counter = 0\n",
    "        S = 0\n",
    "        is_terminated = False\n",
    "        update_env(S, episode, step_counter)\n",
    "        while not is_terminated:\n",
    "            A = choose_action(S, q_table) # choose actions\n",
    "            S_, R = get_env_feedback(S, A) # take actions and receive feedbacks\n",
    "            q_predict = q_table.loc[S, A] # estimated (state-action) value\n",
    "            if S_!=\"terminal\":\n",
    "                q_target = R + GAMMA*q_table.loc[S_,:].max() # real (state-action) value (current episode doesnot end)\n",
    "            else:\n",
    "                q_target = R # read (state-action) value (current episode ends)\n",
    "                is_terminated = True\n",
    "            \n",
    "            q_table.loc[S,A] += ALPHA* (q_target - q_predict) # update q-table\n",
    "            S = S_\n",
    "            step_counter += 1\n",
    "            update_env(S, episode, step_counter)\n",
    "    return q_table"
   ]
  },
  {
   "cell_type": "code",
   "execution_count": null,
   "metadata": {},
   "outputs": [
    {
     "name": "stdout",
     "output_type": "stream",
     "text": [
      "o----T"
     ]
    }
   ],
   "source": [
    "# main\n",
    "q_table = rl()\n",
    "print(\"\\r\\nQ-table:\\n\")\n",
    "print(q_table)"
   ]
  },
  {
   "cell_type": "code",
   "execution_count": null,
   "metadata": {},
   "outputs": [],
   "source": []
  }
 ],
 "metadata": {
  "kernelspec": {
   "display_name": "Python 3",
   "language": "python",
   "name": "python3"
  },
  "language_info": {
   "codemirror_mode": {
    "name": "ipython",
    "version": 3
   },
   "file_extension": ".py",
   "mimetype": "text/x-python",
   "name": "python",
   "nbconvert_exporter": "python",
   "pygments_lexer": "ipython3",
   "version": "3.6.3"
  }
 },
 "nbformat": 4,
 "nbformat_minor": 2
}
